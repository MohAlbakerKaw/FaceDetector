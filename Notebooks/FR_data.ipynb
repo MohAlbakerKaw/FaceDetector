{
 "cells": [
  {
   "cell_type": "code",
   "execution_count": null,
   "id": "a8f6e3aa-e4cc-4bb6-af7d-bb8ae3f299f5",
   "metadata": {},
   "outputs": [],
   "source": [
    "!pip install -q -r ./FaceRecognition/requirements.txt"
   ]
  },
  {
   "cell_type": "code",
   "execution_count": null,
   "id": "034b38fb-5a2c-437f-9131-ec1214eb0421",
   "metadata": {},
   "outputs": [
    {
     "name": "stdout",
     "output_type": "stream",
     "text": [
      "Cloning into 'FaceRecognition'...\n",
      "remote: Enumerating objects: 62, done.\u001b[K\n",
      "remote: Counting objects: 100% (62/62), done.\u001b[K\n",
      "remote: Compressing objects: 100% (58/58), done.\u001b[K\n",
      "remote: Total 62 (delta 8), reused 25 (delta 2), pack-reused 0\u001b[K\n",
      "Unpacking objects: 100% (62/62), 2.90 MiB | 13.49 MiB/s, done.\n"
     ]
    }
   ],
   "source": [
    "!git clone https://github.com/MohAlbakerKaw/FaceRecognition.git"
   ]
  },
  {
   "cell_type": "code",
   "execution_count": null,
   "id": "a434707f-4c97-496e-9f6d-a3ff54c23049",
   "metadata": {},
   "outputs": [],
   "source": [
    "import cv2, os, datetime, glob\n",
    "import torch, torchvision\n",
    "from PIL import Image\n",
    "import numpy as np\n",
    "import matplotlib.pyplot as plt"
   ]
  },
  {
   "cell_type": "code",
   "execution_count": null,
   "id": "c1a0f143-7a1f-41b6-afba-03ffe9196ac2",
   "metadata": {},
   "outputs": [],
   "source": [
    "cascPath = \"./FaceRecognition/Configuration_Files/haarcascade_frontalface_default.xml\"\n",
    "face_class = cv2.CascadeClassifier(cascPath)\n",
    "\n",
    "# Using harrcascade frontal face to extract the face.\n",
    "def face_extractor(photo):\n",
    "  # the photo should be in gray scale\n",
    "  detected = face_class.detectMultiScale(photo)\n",
    "  if detected == ():\n",
    "    return None\n",
    "  else:\n",
    "    (x, y, w, h) = detected[0]\n",
    "    cphoto = photo[y:y+h, x:x+w]\n",
    "    output = cv2.resize(cphoto, (150,150))\n",
    "  return output"
   ]
  },
  {
   "cell_type": "code",
   "execution_count": null,
   "id": "6d0abe54-3796-4be4-b2fb-830e62cd6ce4",
   "metadata": {},
   "outputs": [
    {
     "name": "stdout",
     "output_type": "stream",
     "text": [
      "['Obama', 'Putin', 'Trump']\n"
     ]
    }
   ],
   "source": [
    "### TARGETED CLASSES ###\n",
    "DATA_PATH = './FaceRecognition/Original_Images/'\n",
    "FOLDERS = os.listdir(DATA_PATH)\n",
    "print(FOLDERS)\n",
    "\n",
    "# for folder in FOLDERS:\n",
    "#     print(FOLDERS)"
   ]
  },
  {
   "cell_type": "code",
   "execution_count": 4,
   "id": "6d2d7410-9dd5-4582-bdc8-c326515ac11a",
   "metadata": {},
   "outputs": [],
   "source": [
    "pwd"
   ]
  },
  {
   "cell_type": "code",
   "execution_count": null,
   "id": "d832e30e-9356-4c54-8bde-02d6440de656",
   "metadata": {},
   "outputs": [],
   "source": [
    "root_dir = './FaceRecognition/Original_Images/'\n",
    "\n",
    "for folder in FOLDERS:#[:-1]:\n",
    "    target_dir = './FaceRecognition/Extracted_Faces/' + folder\n",
    "    os.mkdir(target_dir)\n",
    "    for filename in glob.iglob(root_dir + folder + '/*.jpg', recursive=True):\n",
    "        print(filename)\n",
    "        img = cv2.imread(filename, 0)\n",
    "        gface = face_extractor(img)\n",
    "        os.chdir(target_dir)\n",
    "        # filename\n",
    "        wfilename = os.path.basename(filename)\n",
    "        # Using cv2.imwrite() method\n",
    "        # Saving the image\n",
    "        cv2.imwrite(wfilename, gface)\n",
    "        os.chdir(os.path.expanduser('~/sagemaker-studiolab-notebooks'))\n",
    "    os.chdir(os.path.expanduser('~/sagemaker-studiolab-notebooks'))"
   ]
  },
  {
   "cell_type": "code",
   "execution_count": 5,
   "id": "83e3110d-6fa6-45cd-9cf5-c93a658f7bf2",
   "metadata": {},
   "outputs": [],
   "source": [
    "# data generator\n",
    "from keras.preprocessing.image import ImageDataGenerator, array_to_img, img_to_array, load_img\n",
    "\n",
    "datagen = ImageDataGenerator(\n",
    "        rotation_range=40,\n",
    "        width_shift_range=0.2,\n",
    "        height_shift_range=0.2,\n",
    "        shear_range=0.2,\n",
    "        zoom_range=0.2,\n",
    "        horizontal_flip=True,\n",
    "        fill_mode='nearest')"
   ]
  },
  {
   "cell_type": "code",
   "execution_count": 18,
   "id": "4c02f939-71b6-41e1-9cd5-f5fbd9d864d7",
   "metadata": {},
   "outputs": [],
   "source": [
    "for folder in FOLDERS:\n",
    "    for filename in glob.glob('./FaceRecognition/Extracted_Faces/'+folder+'/*.jpg'):\n",
    "        im = load_img(filename) # this is a Numpy array with shape (3, 150, 150)\n",
    "        x = img_to_array(im)\n",
    "        x = x.reshape((1,)+x.shape)\n",
    "        \n",
    "        # the .flow() command below generates batches of randomly transformed images\n",
    "        # and saves the results to the `augmented/` directory\n",
    "        i = 0\n",
    "        for batch in datagen.flow(x, batch_size=1,\n",
    "                                  save_to_dir='./FaceRecognition/Augmented/'+folder, \n",
    "                                  #save_prefix='{}'.format(filename), \n",
    "                                  save_format='jpg'):\n",
    "            i += 1\n",
    "            if i > 50:\n",
    "                break  # otherwise the generator would loop indefinitely"
   ]
  },
  {
   "cell_type": "code",
   "execution_count": 21,
   "id": "e7016909-a80d-45f0-ac69-4beeaf3d7fb7",
   "metadata": {},
   "outputs": [],
   "source": [
    "### zip folder ###\n",
    "# !tar chvfz notebook.tar.gz ./FaceRecognition/Extracted_Faces"
   ]
  },
  {
   "cell_type": "code",
   "execution_count": 1,
   "id": "7f562173-3f76-493b-ac06-d6c89951564b",
   "metadata": {},
   "outputs": [
    {
     "name": "stdout",
     "output_type": "stream",
     "text": [
      "Collecting split-folders\n",
      "  Downloading split_folders-0.4.3-py3-none-any.whl (7.4 kB)\n",
      "Installing collected packages: split-folders\n",
      "Successfully installed split-folders-0.4.3\n"
     ]
    }
   ],
   "source": [
    "!pip install split-folders"
   ]
  },
  {
   "cell_type": "code",
   "execution_count": 2,
   "id": "34f6a8d3-eef6-46ac-947b-76480a8b5295",
   "metadata": {},
   "outputs": [],
   "source": [
    "import splitfolders"
   ]
  },
  {
   "cell_type": "code",
   "execution_count": 3,
   "id": "0a436481-27ff-4fcd-a2e4-745c2181025e",
   "metadata": {},
   "outputs": [
    {
     "name": "stderr",
     "output_type": "stream",
     "text": [
      "Copying files: 770 files [00:00, 12402.32 files/s]\n"
     ]
    }
   ],
   "source": [
    "folder_path = './FaceRecognition/Augmented'\n",
    "output_path = './FaceRecognition/Processed'\n",
    "splitfolders.ratio(folder_path, output_path, seed=42, ratio=(.8, 0.1,0.1)) "
   ]
  },
  {
   "cell_type": "code",
   "execution_count": null,
   "id": "f39e1bd8-65b0-4d55-abed-7e34584a89e8",
   "metadata": {},
   "outputs": [],
   "source": []
  }
 ],
 "metadata": {
  "kernelspec": {
   "display_name": "default:Python",
   "language": "python",
   "name": "conda-env-default-py"
  },
  "language_info": {
   "codemirror_mode": {
    "name": "ipython",
    "version": 3
   },
   "file_extension": ".py",
   "mimetype": "text/x-python",
   "name": "python",
   "nbconvert_exporter": "python",
   "pygments_lexer": "ipython3",
   "version": "3.9.7"
  }
 },
 "nbformat": 4,
 "nbformat_minor": 5
}
